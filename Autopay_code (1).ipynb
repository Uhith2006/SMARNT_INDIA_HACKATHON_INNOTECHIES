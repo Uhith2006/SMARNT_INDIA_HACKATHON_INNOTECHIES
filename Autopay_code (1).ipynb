{
 "cells": [
  {
   "cell_type": "code",
   "execution_count": 3,
   "id": "3aef1cf7-a26e-4df2-9142-ae00ca415773",
   "metadata": {},
   "outputs": [
    {
     "name": "stdout",
     "output_type": "stream",
     "text": [
      "\n",
      "--- Simple UPI App ---\n",
      "Server status: LIVE\n",
      "1. Check Balance\n",
      "2. Send Money\n",
      "3. Toggle Server (simulate down/up)\n",
      "4. Exit\n"
     ]
    },
    {
     "name": "stdin",
     "output_type": "stream",
     "text": [
      "Enter choice:  4\n"
     ]
    },
    {
     "name": "stdout",
     "output_type": "stream",
     "text": [
      "Exiting app.\n"
     ]
    }
   ],
   "source": []
  },
  {
   "cell_type": "code",
   "execution_count": 15,
   "id": "18be83e9-e9a6-4a6c-89ff-247e0f028c10",
   "metadata": {},
   "outputs": [
    {
     "name": "stdout",
     "output_type": "stream",
     "text": [
      "{'name': 'Bob', 'mobile': '9991110002', 'balance': 3000}\n"
     ]
    }
   ],
   "source": []
  },
  {
   "cell_type": "code",
   "execution_count": 3,
   "id": "9af91593-0b47-4ba1-9b42-d1d482ae312c",
   "metadata": {},
   "outputs": [
    {
     "name": "stdout",
     "output_type": "stream",
     "text": [
      "\n",
      "--- Simple UPI App ---\n",
      "Server status: LIVE\n",
      "1. Check Balance\n",
      "2. Send Money\n",
      "3. Toggle Server (simulate down/up)\n",
      "4. Exit\n"
     ]
    },
    {
     "name": "stdin",
     "output_type": "stream",
     "text": [
      "Enter choice:  3\n"
     ]
    },
    {
     "name": "stdout",
     "output_type": "stream",
     "text": [
      "Server status now: DOWN\n",
      "\n",
      "--- Simple UPI App ---\n",
      "Server status: DOWN\n",
      "1. Check Balance\n",
      "2. Send Money\n",
      "3. Toggle Server (simulate down/up)\n",
      "4. Exit\n"
     ]
    },
    {
     "name": "stdin",
     "output_type": "stream",
     "text": [
      "Enter choice:  2\n",
      "Sender mobile:  9991110001\n",
      "Receiver mobile:  9991110002\n",
      "Amount:  200\n",
      "Enter Alice's PIN:  1234\n"
     ]
    },
    {
     "name": "stdout",
     "output_type": "stream",
     "text": [
      "Server is down. Amount frozen and transaction queued for AutoPay once server is back.\n",
      "\n",
      "--- Simple UPI App ---\n",
      "Server status: DOWN\n",
      "1. Check Balance\n",
      "2. Send Money\n",
      "3. Toggle Server (simulate down/up)\n",
      "4. Exit\n"
     ]
    },
    {
     "name": "stdin",
     "output_type": "stream",
     "text": [
      "Enter choice:  1\n",
      "Enter your mobile number:  9991110001\n"
     ]
    },
    {
     "name": "stdout",
     "output_type": "stream",
     "text": [
      "\n",
      "Alice's account:\n",
      "  Total balance:  ₹5000\n",
      "  Frozen amount:  ₹200.0\n",
      "  Available now:  ₹4800.0\n",
      "\n",
      "--- Simple UPI App ---\n",
      "Server status: DOWN\n",
      "1. Check Balance\n",
      "2. Send Money\n",
      "3. Toggle Server (simulate down/up)\n",
      "4. Exit\n"
     ]
    },
    {
     "name": "stdin",
     "output_type": "stream",
     "text": [
      "Enter choice:  4\n"
     ]
    },
    {
     "name": "stdout",
     "output_type": "stream",
     "text": [
      "Exiting app.\n"
     ]
    }
   ],
   "source": [
    "# ---------- Simple UPI App with AutoPay Queue + Frozen Amount + PIN ----------\n",
    "\n",
    "# User data store (acting as a simple database)\n",
    "# Each user has: name, mobile number, total balance, frozen balance, and PIN\n",
    "users = [\n",
    "    {\"name\": \"Alice\", \"mobile\": \"9991110001\", \"balance\": 5000, \"frozen\": 0, \"pin\": \"1234\"},\n",
    "    {\"name\": \"Bob\", \"mobile\": \"9991110002\", \"balance\": 3000, \"frozen\": 0, \"pin\": \"2345\"},\n",
    "    {\"name\": \"Charlie\", \"mobile\": \"9991110003\", \"balance\": 10000, \"frozen\": 0, \"pin\": \"3456\"},\n",
    "    {\"name\": \"David\", \"mobile\": \"9991110004\", \"balance\": 2500, \"frozen\": 0, \"pin\": \"4567\"},\n",
    "    {\"name\": \"Eva\", \"mobile\": \"9991110005\", \"balance\": 7000, \"frozen\": 0, \"pin\": \"5678\"},\n",
    "]\n",
    "\n",
    "# Helper function to get a user dictionary by their mobile number\n",
    "def get_user(mobile):\n",
    "    mobile = str(mobile)  # convert to string to handle int inputs too\n",
    "    for u in users:\n",
    "        if u[\"mobile\"] == mobile:\n",
    "            return u\n",
    "    return None  # return None if not found\n",
    "\n",
    "# Server status flag\n",
    "server_down = False\n",
    "\n",
    "# Pending payments queue (used when server is down)\n",
    "# Each item in the queue is a dict: {\"sender\":..., \"receiver\":..., \"amount\":...}\n",
    "pending_payments = []\n",
    "\n",
    "# Check balance of a user (shows frozen balance also)\n",
    "def check_balance(mobile):\n",
    "    user = get_user(mobile)\n",
    "    if user:\n",
    "        # Available = total balance minus frozen\n",
    "        available = user['balance'] - user['frozen']\n",
    "        print(f\"\\n{user['name']}'s account:\")\n",
    "        print(f\"  Total balance:  ₹{user['balance']}\")\n",
    "        print(f\"  Frozen amount:  ₹{user['frozen']}\")\n",
    "        print(f\"  Available now:  ₹{available}\")\n",
    "    else:\n",
    "        print(\"User not found.\")\n",
    "\n",
    "# Process all pending (queued) AutoPay transactions when server is back up\n",
    "def process_pending():\n",
    "    \"\"\"When server is back up, release frozen amounts and transfer money.\"\"\"\n",
    "    global pending_payments\n",
    "    if not server_down and pending_payments:  # process only if server is live\n",
    "        print(\"\\nProcessing pending AutoPay transactions...\")\n",
    "        for tx in pending_payments:\n",
    "            sender = get_user(tx[\"sender\"])\n",
    "            receiver = get_user(tx[\"receiver\"])\n",
    "            amount = tx[\"amount\"]\n",
    "            # Check again if frozen funds are still there\n",
    "            if sender and receiver and sender[\"frozen\"] >= amount:\n",
    "                # Deduct frozen amount from sender\n",
    "                sender[\"frozen\"] -= amount\n",
    "                # Deduct actual balance permanently\n",
    "                sender[\"balance\"] -= amount\n",
    "                # Credit receiver\n",
    "                receiver[\"balance\"] += amount\n",
    "                print(f\"AutoPaid ₹{amount} from {sender['name']} to {receiver['name']}\")\n",
    "            else:\n",
    "                print(f\"AutoPay failed for {tx}\")\n",
    "        pending_payments = []  # clear queue after processing\n",
    "\n",
    "# Send money from one user to another\n",
    "def send_money(sender_mobile, receiver_mobile, amount):\n",
    "    sender = get_user(sender_mobile)\n",
    "    receiver = get_user(receiver_mobile)\n",
    "    if not sender or not receiver:\n",
    "        print(\"Sender or Receiver not found.\")\n",
    "        return\n",
    "\n",
    "    # Ask for sender's PIN for security\n",
    "    entered_pin = input(f\"Enter {sender['name']}'s PIN: \")\n",
    "    if entered_pin != sender[\"pin\"]:\n",
    "        print(\"Invalid PIN. Transaction cancelled.\")\n",
    "        return\n",
    "\n",
    "    if server_down:\n",
    "        # Server down: freeze the amount and queue it for AutoPay\n",
    "        available = sender['balance'] - sender['frozen']\n",
    "        if available >= amount:\n",
    "            sender['frozen'] += amount  # freeze funds\n",
    "            print(\"Server is down. Amount frozen and transaction queued for AutoPay once server is back.\")\n",
    "            pending_payments.append({\n",
    "                \"sender\": sender_mobile,\n",
    "                \"receiver\": receiver_mobile,\n",
    "                \"amount\": amount\n",
    "            })\n",
    "        else:\n",
    "            print(\"Insufficient available balance to freeze.\")\n",
    "    else:\n",
    "        # Server live: transfer immediately\n",
    "        available = sender['balance'] - sender['frozen']\n",
    "        if available >= amount:\n",
    "            sender['balance'] -= amount\n",
    "            receiver['balance'] += amount\n",
    "            print(f\"₹{amount} sent from {sender['name']} to {receiver['name']}\")\n",
    "        else:\n",
    "            print(\"Insufficient balance.\")\n",
    "\n",
    "# Menu-driven interface for the app\n",
    "def menu():\n",
    "    global server_down\n",
    "    while True:\n",
    "        print(\"\\n--- Simple UPI App ---\")\n",
    "        print(f\"Server status: {'DOWN' if server_down else 'LIVE'}\")\n",
    "        print(\"1. Check Balance\")\n",
    "        print(\"2. Send Money\")\n",
    "        print(\"3. Toggle Server (simulate down/up)\")\n",
    "        print(\"4. Exit\")\n",
    "        choice = input(\"Enter choice: \")\n",
    "\n",
    "        if choice == \"1\":\n",
    "            # Option 1: check balance\n",
    "            mobile = input(\"Enter your mobile number: \")\n",
    "            check_balance(mobile)\n",
    "\n",
    "        elif choice == \"2\":\n",
    "            # Option 2: send money\n",
    "            sender = input(\"Sender mobile: \")    \n",
    "            receiver = input(\"Receiver mobile: \")\n",
    "            try:\n",
    "                amount = float(input(\"Amount: \"))\n",
    "            except ValueError:\n",
    "                print(\"Please enter a valid number.\")\n",
    "                continue\n",
    "            send_money(sender, receiver, amount)\n",
    "\n",
    "        elif choice == \"3\":\n",
    "            # Option 3: toggle server state (simulate server down/up)\n",
    "            server_down = not server_down\n",
    "            print(f\"Server status now: {'DOWN' if server_down else 'LIVE'}\")\n",
    "            # If server becomes live again, process pending payments automatically\n",
    "            process_pending()\n",
    "\n",
    "        elif choice == \"4\":\n",
    "            # Option 4: exit app\n",
    "            print(\"Exiting app.\")\n",
    "            break\n",
    "        else:\n",
    "            print(\"Invalid choice.\")\n",
    "\n",
    "# Entry point of the script\n",
    "if __name__ == \"__main__\":\n",
    "    menu()\n"
   ]
  },
  {
   "cell_type": "code",
   "execution_count": null,
   "id": "59357e76-114d-4faf-96b2-43e4f32d19c1",
   "metadata": {},
   "outputs": [],
   "source": []
  }
 ],
 "metadata": {
  "kernelspec": {
   "display_name": "Python [conda env:anaconda_navigator]",
   "language": "python",
   "name": "conda-env-anaconda_navigator-py"
  },
  "language_info": {
   "codemirror_mode": {
    "name": "ipython",
    "version": 3
   },
   "file_extension": ".py",
   "mimetype": "text/x-python",
   "name": "python",
   "nbconvert_exporter": "python",
   "pygments_lexer": "ipython3",
   "version": "3.12.7"
  }
 },
 "nbformat": 4,
 "nbformat_minor": 5
}
